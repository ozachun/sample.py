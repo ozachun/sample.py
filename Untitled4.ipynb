{
  "nbformat": 4,
  "nbformat_minor": 0,
  "metadata": {
    "colab": {
      "name": "Untitled4.ipynb",
      "provenance": [],
      "authorship_tag": "ABX9TyPjpIAgztm4ldPaUUmQZfnh"
    },
    "kernelspec": {
      "name": "python3",
      "display_name": "Python 3"
    },
    "language_info": {
      "name": "python"
    }
  },
  "cells": [
    {
      "cell_type": "code",
      "execution_count": null,
      "metadata": {
        "id": "QUiQpDfXQE2U"
      },
      "outputs": [],
      "source": [
        "from selenium import webdriver\n",
        "from selenium.webdriver.common.by import By\n",
        "from selenium.webdriver.common.keys import Keys\n",
        "from selenium.webdriver.support.ui import WebDriverWait\n",
        "import time\n",
        "import glob\n",
        "import os\n",
        "import pandas as pd\n",
        "import numpy as np\n",
        "import json\n",
        "import gspread\n",
        "from oauth2client.service_account import ServiceAccountCredentials\n",
        "import pandas as pd\n",
        "import schedule"
      ]
    },
    {
      "cell_type": "code",
      "source": [
        "def task():\n",
        "    #googleにログインした状態でChromeを検索できる\n",
        "    options = webdriver.ChromeOptions()\n",
        "    options.add_argument('--user-data-dir=○○○')\n",
        "    driver = webdriver.Chrome(options=options)\n",
        "\n",
        "    #検索欄のテキストボックス要素をid属性値から取得\n",
        "    driver.get('https://www.google.com')\n",
        "\n",
        "    #検索ボックスを取得\n",
        "    textbox = driver.find_element(By.NAME, \"q\")\n",
        "\n",
        "    #テキストボックスに検索ワードを入力\n",
        "    driver.get('○○○')\n",
        "\n",
        "    #googleでサインイン1\n",
        "    textbox = driver.find_element(By.CLASS_NAME, \"google-buttonContentWrapper\")\n",
        "    textbox.click()\n",
        "\n",
        "    #googleでサインイン2\n",
        "    textbox = driver.find_element(By.CLASS_NAME, \"d2laFc\")\n",
        "    textbox.click()\n",
        "\n",
        "    # 6秒待機\n",
        "    time.sleep(6)\n",
        "\n",
        "    #CSVダウンロード\n",
        "    textbox = driver.find_element(By.CLASS_NAME, \"dropdown\")\n",
        "    textbox.click()\n",
        "\n",
        "    #Default Export をクリック\n",
        "    textbox = driver.find_element(By.XPATH, \"//ul[@class='dropdown-menu pull-right']/li[1]\")\n",
        "    textbox.click()\n",
        "\n",
        "    # 6秒待機\n",
        "    time.sleep(6)\n",
        "\n",
        "    #ダウンロードした最新のファイルを取得\n",
        "    list_of_files = glob.glob('○○○') # * means all if need specific format then *.csv\n",
        "    latest_file = max(list_of_files, key=os.path.getctime)\n",
        "    print(latest_file)\n",
        "\n",
        "    ##張り付けるためのcsvデータの成型\n",
        "\n",
        "    #df:ダウンロードした最新のcsvファイル\n",
        "    df = pd.read_csv(latest_file)\n",
        "\n",
        "    #列名の変更\n",
        "    df1 = df.set_axis(['Col_1'], axis=1)\n",
        "    df1 = df1['Col_1'].str.replace('\"', '')\n",
        "    #「;」で列を分割\n",
        "    df1 = df1.str.split(';', expand=True)\n",
        "    #ID管理の列名に変更\n",
        "    df1 = df1.rename(columns={0:'name', 1:'id', 2:'manager_title', 3:'number', 4:'original_article_id', 5:'end_client',\n",
        "                          6:'status', 7:'prefecture', 8:'area', 9:'station_group_id', 10:'job_category_id',\n",
        "                          11:'job_type_id', 12:'employment_type_id', 13:'rich_rank'})\n",
        "    #dfをリストに変換\n",
        "    df1_list = df1.reset_index().T.reset_index().T.values.tolist()\n",
        "    #リストの１列目を削除\n",
        "    df1_list = np.delete(df1_list, 0, 1)#delete(リスト, 削除する列or行番目,行:0or列:1を指定)\n",
        "    df1_list = df1_list.tolist()\n",
        "\n",
        "    #df1_list = json.dumps(df1_list ,cls = MyEncoder, ensure_ascii=False)\n",
        "\n",
        "    #張り付けるデータを表示する\n",
        "    print(df1_list)\n",
        "\n",
        "    #スプレッドシートとgoogleドライブのAPI情報を格納(人によって違う)\n",
        "    scope = ['○○○',\n",
        "         '○○○']\n",
        "    #jsonファイルの秘密鍵(人によって違う)\n",
        "    service_account_file = '○○○'\n",
        "\n",
        "    credentials = ServiceAccountCredentials.from_json_keyfile_name(service_account_file, scope)\n",
        "\n",
        "    #google APIにログイン\n",
        "    gs = gspread.authorize(credentials)\n",
        "\n",
        "    #IDを記載したいスプレッドシートIDを入力\n",
        "    spreadsheet_key = '○○○'\n",
        "\n",
        "    #該当のスプレッドシートを開く\n",
        "    wb = gs.open_by_key(spreadsheet_key)\n",
        "    # ID管理のシートを開く\n",
        "    ws = wb.worksheet('ID管理')\n",
        "    #スプレッドシートへの書き込み\n",
        "    ws.update(df1_list)"
      ],
      "metadata": {
        "id": "-Dp7YMprQOMK"
      },
      "execution_count": null,
      "outputs": []
    },
    {
      "cell_type": "code",
      "source": [
        "#02 スケジュール登録\n",
        "schedule.every().http://day.at(\"19:15\").do(task)"
      ],
      "metadata": {
        "id": "OfQgl3NlQPGt"
      },
      "execution_count": null,
      "outputs": []
    },
    {
      "cell_type": "code",
      "source": [
        "#03 イベント実行\n",
        "while True:\n",
        "    schedule.run_pending()\n",
        "    time.sleep(1)"
      ],
      "metadata": {
        "id": "pU1rwt-nQSVx"
      },
      "execution_count": null,
      "outputs": []
    }
  ]
}