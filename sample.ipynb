{
  "nbformat": 4,
  "nbformat_minor": 0,
  "metadata": {
    "colab": {
      "name": "sample.ipynb",
      "provenance": [],
      "collapsed_sections": [],
      "mount_file_id": "1T-fBWx9TGdoIKp8bpbaUwwoWjJeDUH9o",
      "authorship_tag": "ABX9TyNVLiM2pZtrRylwdZ3Fgzvk",
      "include_colab_link": true
    },
    "kernelspec": {
      "display_name": "Python 3",
      "name": "python3"
    },
    "language_info": {
      "name": "python"
    }
  },
  "cells": [
    {
      "cell_type": "markdown",
      "metadata": {
        "id": "view-in-github",
        "colab_type": "text"
      },
      "source": [
        "<a href=\"https://colab.research.google.com/github/ozachun/sample.py/blob/main/sample.ipynb\" target=\"_parent\"><img src=\"https://colab.research.google.com/assets/colab-badge.svg\" alt=\"Open In Colab\"/></a>"
      ]
    },
    {
      "cell_type": "code",
      "metadata": {
        "id": "0bWSNx4bzN4X"
      },
      "source": [
        "from google.colab import drive\n",
        "from datetime import datetime, timedelta\n",
        "import pandas as pd \n",
        "import datetime as dt\n",
        "import matplotlib.pyplot as plt\n",
        "import numpy as np"
      ],
      "execution_count": 1,
      "outputs": []
    },
    {
      "cell_type": "code",
      "metadata": {
        "id": "B1yR3tP1zw-W"
      },
      "source": [
        "#サンプルデータをダウンロード\n",
        "data= pd.read_csv('sample_data/is_valid.csv')\n",
        "print(data)"
      ],
      "execution_count": null,
      "outputs": []
    },
    {
      "cell_type": "code",
      "metadata": {
        "id": "xNDn-lbPliy3"
      },
      "source": [
        "data = data.set_axis(['is_available', 'created_at'], axis=1)#列の名前を変更\n",
        "data01 = data.dropna(axis = 'rows')#欠損値の削除\n",
        "data01['created_at'] = pd.to_datetime(data01['created_at'])#型の変更\n",
        "df = data01[(data01['created_at'] >= dt.datetime(2018,3,1)) & (data01['created_at'] < dt.datetime(2021,3,15))]\n",
        "print(df) #2018/3/1(水)～2021/3/14(土)の期間の応募"
      ],
      "execution_count": null,
      "outputs": []
    },
    {
      "cell_type": "code",
      "metadata": {
        "id": "P5bbqScI2w8-"
      },
      "source": [
        "df[\"created_at\"] = pd.to_datetime(df[\"created_at\"])#型の変更\n",
        "df.set_index('created_at', inplace=True)#これでインデックスがDatetimeIndexとなる。\n",
        "print(df)"
      ],
      "execution_count": null,
      "outputs": []
    },
    {
      "cell_type": "code",
      "metadata": {
        "id": "MQ3jQ_gIdVm7"
      },
      "source": [
        "df_daily = df.resample('1D').sum()#2018/3/1から2021/3/14までの１日ごとの応募数にまとめる\n",
        "print(df_daily)"
      ],
      "execution_count": null,
      "outputs": []
    },
    {
      "cell_type": "code",
      "metadata": {
        "id": "ROm-VI7Dk5wv"
      },
      "source": [
        "df_daily01 = df_daily.reset_index()#列の計算をするためにindexをリセット\n",
        "print(df_daily01)"
      ],
      "execution_count": null,
      "outputs": []
    },
    {
      "cell_type": "code",
      "metadata": {
        "id": "MKsiGSNElNw_"
      },
      "source": [
        "df5 = pd.concat([df_daily01[\"created_at\"]] * 24, 1).stack().reset_index(drop=True)#応募日の列を24行分コピー\n",
        "df10 = pd.concat([df_daily01[\"is_available\"]] * 24, 1).stack().reset_index(drop=True)#応募数の列を24行分コピー\n",
        "df50 = pd.concat([df5, df10], axis=1)#上記24倍した列を一つの表にまとめる\n",
        "print(df50)"
      ],
      "execution_count": null,
      "outputs": []
    },
    {
      "cell_type": "code",
      "metadata": {
        "id": "4lEgz0X2wGZG"
      },
      "source": [
        "df_hour = df.resample('1H').sum()#2018/3/1から2021/3/14までの１時間ごとの応募数\n",
        "df_hour = df_hour.reset_index()#列の計算をするためにindexをリセット\n",
        "print(df_hour)"
      ],
      "execution_count": null,
      "outputs": []
    },
    {
      "cell_type": "code",
      "metadata": {
        "id": "tTprdtZbBPBG"
      },
      "source": [
        "df50 = df50.assign(ID=range(len(df50)))#ID列を追加\n",
        "df_hour = df_hour.assign(ID=range(len(df_hour)))#ID列を追加\n",
        "print(df50)\n",
        "print(df_hour)"
      ],
      "execution_count": null,
      "outputs": []
    },
    {
      "cell_type": "code",
      "metadata": {
        "id": "zaxDltfE6cPw"
      },
      "source": [
        "df100 = pd.merge(df50, df_hour)#表の結合（5列）\n",
        "print(df100)"
      ],
      "execution_count": null,
      "outputs": []
    },
    {
      "cell_type": "code",
      "metadata": {
        "id": "UaiajMIcCU8i"
      },
      "source": [
        "#1時間ごとの応募割合の計算＋表への結合(6列)\n",
        "percent = df100[\"is_available\"]/df100[1]\n",
        "df100 = pd.concat([df100, percent], axis=1)\n",
        "print(df100)"
      ],
      "execution_count": null,
      "outputs": []
    },
    {
      "cell_type": "code",
      "metadata": {
        "id": "1jRPt7h6KOjw"
      },
      "source": [
        "df100 = df100.set_axis(['a', 'b', 'ID', 'c', 'd', 'e'], axis=1)#列名を英語に変更\n",
        "print(df100)"
      ],
      "execution_count": null,
      "outputs": []
    },
    {
      "cell_type": "code",
      "metadata": {
        "id": "1NtnSf_Byj1L"
      },
      "source": [
        "#累積応募割合を計算＋列に追加(7列)\n",
        "df_f = df100[\"e\"].cumsum(axis=0)\n",
        "df_f = pd.concat([df_f, df_f], axis=1)\n",
        "df_f = df_f.set_axis(['f', 'g'], axis=1)\n",
        "df100 = pd.concat([df100, df_f[\"f\"]], axis=1)\n",
        "print(df100)"
      ],
      "execution_count": null,
      "outputs": []
    },
    {
      "cell_type": "code",
      "metadata": {
        "id": "peRURdtNZcIm"
      },
      "source": [
        "print(df100) #1時は24n(n=0,1,...,1109),２時は24n+1(n=0,1,...,1109),・・・"
      ],
      "execution_count": null,
      "outputs": []
    },
    {
      "cell_type": "code",
      "metadata": {
        "id": "-0OTcEWgMUPC"
      },
      "source": [
        "#1日の応募割合を計算する①累積和-経過日数をしたい\n",
        "results = []\n",
        "for i in range(len(df100)):\n",
        "  x = i//24 #商を計算\n",
        "  results.append(x)\n",
        "print(results)"
      ],
      "execution_count": null,
      "outputs": []
    },
    {
      "cell_type": "code",
      "metadata": {
        "id": "8-aQfr1Y_7mQ"
      },
      "source": [
        "#上記で計算した列をdf100に追加（7列目）\n",
        "results = pd.DataFrame(results)\n",
        "df100 = pd.concat([df100, results], axis=1)\n",
        "df100 = df100.set_axis(['a', 'b', 'ID', 'c', 'd', 'e', 'f', 'g'], axis=1)#列名の名前の変更\n",
        "print(df100)"
      ],
      "execution_count": null,
      "outputs": []
    },
    {
      "cell_type": "code",
      "metadata": {
        "id": "GupvmzkbKadC"
      },
      "source": [
        "#引き算の結果を列に追加(8列目)\n",
        "df100[\"h\"] = df100[\"f\"] - df100[\"g\"]\n",
        "print(df100)"
      ],
      "execution_count": null,
      "outputs": []
    },
    {
      "cell_type": "code",
      "metadata": {
        "id": "CXWN_ZjGpjhP"
      },
      "source": [
        "#日付から曜日を判定し、表に追加 0:月曜日,...,6:日曜日\n",
        "import datetime as dt\n",
        "\n",
        "dates = []\n",
        "for i in range(0,len(df100)):\n",
        "  datey = df100.iloc[i,0]\n",
        "  datey_y = datey.year\n",
        "  datey_m = datey.month\n",
        "  datey_d = datey.day\n",
        "  datey = dt.date(datey_y, datey_m, datey_d).weekday()\n",
        "  dates.append(datey)"
      ],
      "execution_count": 18,
      "outputs": []
    },
    {
      "cell_type": "code",
      "metadata": {
        "id": "cPt8881Cp7yU"
      },
      "source": [
        "print(dates[2])\n",
        "print(len(dates))\n",
        "print(dates)"
      ],
      "execution_count": null,
      "outputs": []
    },
    {
      "cell_type": "code",
      "metadata": {
        "id": "_hUyioh4qCTK"
      },
      "source": [
        "#曜日の値をdfに追加(10列)\n",
        "df100 = df100.assign(date=dates)"
      ],
      "execution_count": 20,
      "outputs": []
    },
    {
      "cell_type": "code",
      "metadata": {
        "id": "QhnSn_2Vq1q5"
      },
      "source": [
        "print(df100.head(50))"
      ],
      "execution_count": null,
      "outputs": []
    },
    {
      "cell_type": "code",
      "metadata": {
        "id": "vhXhyEVepwb5"
      },
      "source": [
        "#１時間ごとに行を抽出\n",
        "tables = []\n",
        "for i in range(0,24):\n",
        "  table = []\n",
        "  table = df100[i::24]\n",
        "  tables.append(table)"
      ],
      "execution_count": 22,
      "outputs": []
    },
    {
      "cell_type": "code",
      "metadata": {
        "id": "8z0-gx7SDD80"
      },
      "source": [
        "tables_hour = tables[0]\n",
        "print(tables_hour)\n",
        "print(tables_hour[\"date\"])\n",
        "print(tables_hour[tables_hour['date'].isin([1])])"
      ],
      "execution_count": null,
      "outputs": []
    },
    {
      "cell_type": "code",
      "metadata": {
        "id": "7-nrNDeVvhaM"
      },
      "source": [
        "#曜日ごとに抽出\n",
        "tables_hourdate = []\n",
        "tables_hourdates =[]\n",
        "for i in range(0,24):\n",
        "  tables_hour = []\n",
        "  tables_hour = tables[i] #0時時点の抽出\n",
        "  print(tables_hour)\n",
        "  for j in range(0,7):\n",
        "    print(tables_hour[tables_hour['date'].isin([j])]) #0時かつ月曜日を抽出\n",
        "    tables_hourdate = np.array(tables_hour[tables_hour['date'].isin([j])])\n",
        "    print(tables_hourdate)\n",
        "    tables_hourdates = np.append(tables_hourdate, tables_hourdate)"
      ],
      "execution_count": null,
      "outputs": []
    },
    {
      "cell_type": "code",
      "metadata": {
        "id": "1aafuaDrAulU"
      },
      "source": [
        "print(tables_hourdates.shape)"
      ],
      "execution_count": null,
      "outputs": []
    },
    {
      "cell_type": "code",
      "metadata": {
        "id": "d3s1cmcdvaX_"
      },
      "source": [
        "print(tables[0])#0～1時時点の抽出結果\n",
        "print(tables[23])#23～24時時点の抽出結果"
      ],
      "execution_count": null,
      "outputs": []
    },
    {
      "cell_type": "code",
      "metadata": {
        "id": "YAOs232dw7iK"
      },
      "source": [
        "#2018/3/1の300日以降のデータを抽出\n",
        "ts = []\n",
        "for i in range(0,24):\n",
        "  t = tables[i][300:]\n",
        "  ts.append(t)"
      ],
      "execution_count": 27,
      "outputs": []
    },
    {
      "cell_type": "code",
      "metadata": {
        "id": "Vrh1CS1hzPcS"
      },
      "source": [
        "print(ts[0])#0～1時時点かつ2018/3/1の300日以降の抽出結果\n",
        "print(ts[23])#23～24時時点かつ2018/3/1の300日以降の抽出結果"
      ],
      "execution_count": null,
      "outputs": []
    },
    {
      "cell_type": "code",
      "metadata": {
        "id": "FQAam2j2OREp"
      },
      "source": [
        "x = ts[9]['a']\n",
        "y = ts[9]['h']\n",
        "plt.rcParams[\"figure.figsize\"] = (40, 8)\n",
        "plt.plot(x, y)"
      ],
      "execution_count": null,
      "outputs": []
    },
    {
      "cell_type": "code",
      "metadata": {
        "id": "Mn4VGC0Z2uaq"
      },
      "source": [
        "#2021/3/14までの165日のデータの平均を抽出\n",
        "ts_mean = []\n",
        "for i in range(0,24):\n",
        "  t_mean = ts[i].tail(165).mean()\n",
        "  ts_mean.append(t_mean)"
      ],
      "execution_count": null,
      "outputs": []
    },
    {
      "cell_type": "code",
      "metadata": {
        "id": "5z5T3qHf39aR"
      },
      "source": [
        "print(ts_mean[0])#0～1時時点の平均を抽出\n",
        "print(ts_mean[23])#23～24時時点の平均を抽出"
      ],
      "execution_count": null,
      "outputs": []
    },
    {
      "cell_type": "code",
      "metadata": {
        "id": "35zE-2UY456d"
      },
      "source": [
        "a_s =[]\n",
        "for i in range(0,24):\n",
        "  a = ts_mean[i][6:7]\n",
        "  a_s.append(a)"
      ],
      "execution_count": 32,
      "outputs": []
    },
    {
      "cell_type": "code",
      "metadata": {
        "id": "qRXz3-PS6Uwj"
      },
      "source": [
        "print(a_s[0])#１時時点での平均応募割合\n",
        "print(a_s[9])#10時時点での平均応募割合"
      ],
      "execution_count": null,
      "outputs": []
    }
  ]
}